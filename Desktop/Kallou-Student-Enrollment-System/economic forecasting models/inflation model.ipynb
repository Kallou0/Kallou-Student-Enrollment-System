{
 "cells": [
  {
   "cell_type": "markdown",
   "metadata": {},
   "source": [
    "# Importing relevant libraries"
   ]
  },
  {
   "cell_type": "code",
   "execution_count": 1,
   "metadata": {},
   "outputs": [
    {
     "name": "stderr",
     "output_type": "stream",
     "text": [
      "C:\\Users\\Admin\\Anaconda3\\lib\\site-packages\\h5py\\__init__.py:36: FutureWarning: Conversion of the second argument of issubdtype from `float` to `np.floating` is deprecated. In future, it will be treated as `np.float64 == np.dtype(float).type`.\n",
      "  from ._conv import register_converters as _register_converters\n",
      "Using TensorFlow backend.\n"
     ]
    }
   ],
   "source": [
    "from matplotlib import pyplot as plt\n",
    "from sklearn.preprocessing import MinMaxScaler\n",
    "from keras.models import Sequential\n",
    "from keras.layers import GRU, Dense\n",
    "from keras.layers import LSTM\n",
    "from keras  import callbacks\n",
    "from keras import optimizers\n",
    "import pandas as pd \n",
    "import tensorflow as tf\n",
    "import numpy as np\n",
    "from sklearn.externals import joblib"
   ]
  },
  {
   "cell_type": "markdown",
   "metadata": {},
   "source": [
    "# Importing the dataset"
   ]
  },
  {
   "cell_type": "code",
   "execution_count": 2,
   "metadata": {},
   "outputs": [],
   "source": [
    "df = pd.read_excel('inflation.xlsx', index_col = 'Years')\n",
    "\n"
   ]
  },
  {
   "cell_type": "code",
   "execution_count": 3,
   "metadata": {},
   "outputs": [
    {
     "data": {
      "text/html": [
       "<div>\n",
       "<style scoped>\n",
       "    .dataframe tbody tr th:only-of-type {\n",
       "        vertical-align: middle;\n",
       "    }\n",
       "\n",
       "    .dataframe tbody tr th {\n",
       "        vertical-align: top;\n",
       "    }\n",
       "\n",
       "    .dataframe thead th {\n",
       "        text-align: right;\n",
       "    }\n",
       "</style>\n",
       "<table border=\"1\" class=\"dataframe\">\n",
       "  <thead>\n",
       "    <tr style=\"text-align: right;\">\n",
       "      <th></th>\n",
       "      <th>inflation</th>\n",
       "    </tr>\n",
       "  </thead>\n",
       "  <tbody>\n",
       "    <tr>\n",
       "      <th>count</th>\n",
       "      <td>3.600000e+01</td>\n",
       "    </tr>\n",
       "    <tr>\n",
       "      <th>mean</th>\n",
       "      <td>6.421118e+06</td>\n",
       "    </tr>\n",
       "    <tr>\n",
       "      <th>std</th>\n",
       "      <td>3.852510e+07</td>\n",
       "    </tr>\n",
       "    <tr>\n",
       "      <th>min</th>\n",
       "      <td>-2.400000e+00</td>\n",
       "    </tr>\n",
       "    <tr>\n",
       "      <th>25%</th>\n",
       "      <td>8.725000e+00</td>\n",
       "    </tr>\n",
       "    <tr>\n",
       "      <th>50%</th>\n",
       "      <td>1.920000e+01</td>\n",
       "    </tr>\n",
       "    <tr>\n",
       "      <th>75%</th>\n",
       "      <td>5.647500e+01</td>\n",
       "    </tr>\n",
       "    <tr>\n",
       "      <th>max</th>\n",
       "      <td>2.311509e+08</td>\n",
       "    </tr>\n",
       "  </tbody>\n",
       "</table>\n",
       "</div>"
      ],
      "text/plain": [
       "          inflation\n",
       "count  3.600000e+01\n",
       "mean   6.421118e+06\n",
       "std    3.852510e+07\n",
       "min   -2.400000e+00\n",
       "25%    8.725000e+00\n",
       "50%    1.920000e+01\n",
       "75%    5.647500e+01\n",
       "max    2.311509e+08"
      ]
     },
     "execution_count": 3,
     "metadata": {},
     "output_type": "execute_result"
    }
   ],
   "source": [
    "df.describe()"
   ]
  },
  {
   "cell_type": "code",
   "execution_count": 4,
   "metadata": {},
   "outputs": [
    {
     "data": {
      "text/plain": [
       "<matplotlib.axes._subplots.AxesSubplot at 0x2d5bf8bc828>"
      ]
     },
     "execution_count": 4,
     "metadata": {},
     "output_type": "execute_result"
    },
    {
     "data": {
      "image/png": "[encoded data removed]",
      "text/plain": [
       "<Figure size 432x288 with 1 Axes>"
      ]
     },
     "metadata": {},
     "output_type": "display_data"
    }
   ],
   "source": [
    "df.plot()"
   ]
  },
  {
   "cell_type": "code",
   "execution_count": 5,
   "metadata": {},
   "outputs": [
    {
     "data": {
      "text/plain": [
       "inflation    0\n",
       "dtype: int64"
      ]
     },
     "execution_count": 5,
     "metadata": {},
     "output_type": "execute_result"
    }
   ],
   "source": [
    "df.isnull().sum()"
   ]
  },
  {
   "cell_type": "code",
   "execution_count": 6,
   "metadata": {},
   "outputs": [
    {
     "data": {
      "text/plain": [
       "Series([], dtype: float64)"
      ]
     },
     "execution_count": 6,
     "metadata": {},
     "output_type": "execute_result"
    }
   ],
   "source": [
    "null_columns=df.columns[df.isnull().any()]\n",
    "df[null_columns].isnull().sum()"
   ]
  },
  {
   "cell_type": "code",
   "execution_count": 7,
   "metadata": {},
   "outputs": [
    {
     "name": "stdout",
     "output_type": "stream",
     "text": [
      "Empty DataFrame\n",
      "Columns: []\n",
      "Index: []\n"
     ]
    }
   ],
   "source": [
    "print(df[df.isnull().any(axis=1)][null_columns].head())"
   ]
  },
  {
   "cell_type": "code",
   "execution_count": 8,
   "metadata": {},
   "outputs": [],
   "source": [
    "df.dropna(inplace=True)"
   ]
  },
  {
   "cell_type": "code",
   "execution_count": 9,
   "metadata": {},
   "outputs": [
    {
     "data": {
      "text/plain": [
       "inflation    0\n",
       "dtype: int64"
      ]
     },
     "execution_count": 9,
     "metadata": {},
     "output_type": "execute_result"
    }
   ],
   "source": [
    "df.isnull().sum()"
   ]
  },
  {
   "cell_type": "code",
   "execution_count": 10,
   "metadata": {},
   "outputs": [
    {
     "data": {
      "text/plain": [
       "array([[<matplotlib.axes._subplots.AxesSubplot object at 0x000002D5BFA41C18>]],\n",
       "      dtype=object)"
      ]
     },
     "execution_count": 10,
     "metadata": {},
     "output_type": "execute_result"
    },
    {
     "data": {
      "image/png": "[encoded data removed]",
      "text/plain": [
       "<Figure size 432x288 with 1 Axes>"
      ]
     },
     "metadata": {},
     "output_type": "display_data"
    }
   ],
   "source": [
    "df.hist(bins=10)"
   ]
  },
  {
   "cell_type": "code",
   "execution_count": 11,
   "metadata": {},
   "outputs": [
    {
     "data": {
      "text/plain": [
       "0"
      ]
     },
     "execution_count": 11,
     "metadata": {},
     "output_type": "execute_result"
    }
   ],
   "source": [
    "len(df[df['inflation'] == 0])"
   ]
  },
  {
   "cell_type": "code",
   "execution_count": 12,
   "metadata": {},
   "outputs": [
    {
     "name": "stdout",
     "output_type": "stream",
     "text": [
      "Min inflation   -2.4\n",
      "dtype: float64\n",
      "Max inflation    231150889.4\n",
      "dtype: float64\n"
     ]
    }
   ],
   "source": [
    "print('Min', np.min(df))\n",
    "print('Max', np.max(df))"
   ]
  },
  {
   "cell_type": "code",
   "execution_count": 13,
   "metadata": {},
   "outputs": [],
   "source": [
    "dataset = df.astype('float32')"
   ]
  },
  {
   "cell_type": "code",
   "execution_count": 14,
   "metadata": {},
   "outputs": [
    {
     "data": {
      "text/plain": [
       "(36, 1)"
      ]
     },
     "execution_count": 14,
     "metadata": {},
     "output_type": "execute_result"
    }
   ],
   "source": [
    "dataset.shape"
   ]
  },
  {
   "cell_type": "code",
   "execution_count": 15,
   "metadata": {},
   "outputs": [],
   "source": [
    "scaler = MinMaxScaler(feature_range=(0, 1))\n",
    "scaled = scaler.fit_transform(dataset)"
   ]
  },
  {
   "cell_type": "code",
   "execution_count": 16,
   "metadata": {},
   "outputs": [
    {
     "name": "stdout",
     "output_type": "stream",
     "text": [
      "Min 0.0\n",
      "Max 1.0\n"
     ]
    }
   ],
   "source": [
    "print('Min', np.min(scaled))\n",
    "print('Max', np.max(scaled))"
   ]
  },
  {
   "cell_type": "code",
   "execution_count": 17,
   "metadata": {
    "scrolled": true
   },
   "outputs": [
    {
     "name": "stdout",
     "output_type": "stream",
     "text": [
      "[[4.19639307e-08]\n",
      " [7.05167050e-08]\n",
      " [7.35450331e-08]\n",
      " [9.51759246e-08]\n",
      " [8.08995313e-08]\n",
      " [5.01836678e-08]\n",
      " [7.18145593e-08]\n",
      " [6.18643484e-08]\n",
      " [4.10986938e-08]\n",
      " [6.05664982e-08]]\n"
     ]
    }
   ],
   "source": [
    "print(scaled[:10])"
   ]
  },
  {
   "cell_type": "code",
   "execution_count": 18,
   "metadata": {},
   "outputs": [
    {
     "name": "stdout",
     "output_type": "stream",
     "text": [
      "train: 25\n",
      "test: 11\n"
     ]
    }
   ],
   "source": [
    "train_size = int(len(scaled) * 0.70)\n",
    "test_size = len(scaled - train_size)\n",
    "train, test = scaled[0:train_size, :], scaled[train_size: len(scaled), :]\n",
    "print('train: {}\\ntest: {}'.format(len(train), len(test)))"
   ]
  },
  {
   "cell_type": "code",
   "execution_count": 19,
   "metadata": {},
   "outputs": [],
   "source": [
    "def create_dataset(dataset, look_back=1):\n",
    "    print(len(dataset), look_back)\n",
    "    dataX, dataY = [], []\n",
    "    for i in range(len(dataset)-look_back-1):\n",
    "        a = dataset[i:(i+look_back), 0]\n",
    "        print(i)\n",
    "        print('X {} to {}'.format(i, i+look_back))\n",
    "        print(a)\n",
    "        print('Y {}'.format(i + look_back))\n",
    "        print(dataset[i + look_back, 0])\n",
    "        dataset[i + look_back, 0]\n",
    "        dataX.append(a)\n",
    "        dataY.append(dataset[i + look_back, 0])\n",
    "    return np.array(dataX), np.array(dataY)"
   ]
  },
  {
   "cell_type": "code",
   "execution_count": 20,
   "metadata": {},
   "outputs": [
    {
     "name": "stdout",
     "output_type": "stream",
     "text": [
      "25 1\n",
      "0\n",
      "X 0 to 1\n",
      "[4.19639307e-08]\n",
      "Y 1\n",
      "7.051670500406628e-08\n",
      "1\n",
      "X 1 to 2\n",
      "[7.0516705e-08]\n",
      "Y 2\n",
      "7.354503311260827e-08\n",
      "2\n",
      "X 2 to 3\n",
      "[7.35450331e-08]\n",
      "Y 3\n",
      "9.517592459782171e-08\n",
      "3\n",
      "X 3 to 4\n",
      "[9.51759246e-08]\n",
      "Y 4\n",
      "8.089953126666268e-08\n",
      "4\n",
      "X 4 to 5\n",
      "[8.08995313e-08]\n",
      "Y 5\n",
      "5.0183667833118675e-08\n",
      "5\n",
      "X 5 to 6\n",
      "[5.01836678e-08]\n",
      "Y 6\n",
      "7.181455931833212e-08\n",
      "6\n",
      "X 6 to 7\n",
      "[7.18145593e-08]\n",
      "Y 7\n",
      "6.186434840998091e-08\n",
      "7\n",
      "X 7 to 8\n",
      "[6.18643484e-08]\n",
      "Y 8\n",
      "4.1098693821905544e-08\n",
      "8\n",
      "X 8 to 9\n",
      "[4.10986938e-08]\n",
      "Y 9\n",
      "6.05664982214802e-08\n",
      "9\n",
      "X 9 to 10\n",
      "[6.05664982e-08]\n",
      "Y 10\n",
      "7.743859192964064e-08\n",
      "10\n",
      "X 10 to 11\n",
      "[7.74385919e-08]\n",
      "Y 11\n",
      "1.111827793459615e-07\n",
      "11\n",
      "X 11 to 12\n",
      "[1.11182779e-07]\n",
      "Y 12\n",
      "1.9251492802975193e-07\n",
      "12\n",
      "X 12 to 13\n",
      "[1.92514928e-07]\n",
      "Y 13\n",
      "1.2978535097416322e-07\n",
      "13\n",
      "X 13 to 14\n",
      "[1.29785351e-07]\n",
      "Y 14\n",
      "1.0685660104891882e-07\n",
      "14\n",
      "X 14 to 15\n",
      "[1.06856601e-07]\n",
      "Y 15\n",
      "1.0815445948894978e-07\n",
      "15\n",
      "X 15 to 16\n",
      "[1.08154459e-07]\n",
      "Y 16\n",
      "1.0296304223188645e-07\n",
      "16\n",
      "X 16 to 17\n",
      "[1.02963042e-07]\n",
      "Y 17\n",
      "9.17149770092694e-08\n",
      "17\n",
      "X 17 to 18\n",
      "[9.1714977e-08]\n",
      "Y 18\n",
      "1.475226836423443e-07\n",
      "18\n",
      "X 18 to 19\n",
      "[1.47522684e-07]\n",
      "Y 19\n",
      "2.634642587024763e-07\n",
      "19\n",
      "X 19 to 20\n",
      "[2.63464259e-07]\n",
      "Y 20\n",
      "2.517835739998489e-07\n",
      "20\n",
      "X 20 to 21\n",
      "[2.51783574e-07]\n",
      "Y 21\n",
      "3.214350544840725e-07\n",
      "21\n",
      "X 21 to 22\n",
      "[3.21435054e-07]\n",
      "Y 22\n",
      "5.866297642891167e-07\n",
      "22\n",
      "X 22 to 23\n",
      "[5.86629764e-07]\n",
      "Y 23\n",
      "1.5894379067460603e-06\n",
      "11 1\n",
      "0\n",
      "X 0 to 1\n",
      "[1.03914804e-06]\n",
      "Y 1\n",
      "4.4088083557385746e-06\n",
      "1\n",
      "X 1 to 2\n",
      "[4.40880836e-06]\n",
      "Y 2\n",
      "2.9098308689108104e-05\n",
      "2\n",
      "X 2 to 3\n",
      "[2.90983087e-05]\n",
      "Y 3\n",
      "1.0\n",
      "3\n",
      "X 3 to 4\n",
      "[1.]\n",
      "Y 4\n",
      "2.3793980633734786e-08\n",
      "4\n",
      "X 4 to 5\n",
      "[2.37939806e-08]\n",
      "Y 5\n",
      "2.5524452365128378e-08\n",
      "5\n",
      "X 5 to 6\n",
      "[2.55244524e-08]\n",
      "Y 6\n",
      "2.6389688230825167e-08\n",
      "6\n",
      "X 6 to 7\n",
      "[2.63896882e-08]\n",
      "Y 7\n",
      "1.7304713703891397e-08\n",
      "7\n",
      "X 7 to 8\n",
      "[1.73047137e-08]\n",
      "Y 8\n",
      "9.517592653177412e-09\n",
      "8\n",
      "X 8 to 9\n",
      "[9.51759265e-09]\n",
      "Y 9\n",
      "0.0\n"
     ]
    }
   ],
   "source": [
    "look_back = 1\n",
    "X_train, y_train = create_dataset(train, look_back)\n",
    "X_test, y_test = create_dataset(test, look_back)"
   ]
  },
  {
   "cell_type": "code",
   "execution_count": 21,
   "metadata": {},
   "outputs": [
    {
     "data": {
      "text/plain": [
       "(23, 1)"
      ]
     },
     "execution_count": 21,
     "metadata": {},
     "output_type": "execute_result"
    }
   ],
   "source": [
    "X_train.shape"
   ]
  },
  {
   "cell_type": "code",
   "execution_count": 22,
   "metadata": {},
   "outputs": [
    {
     "data": {
      "text/plain": [
       "(9,)"
      ]
     },
     "execution_count": 22,
     "metadata": {},
     "output_type": "execute_result"
    }
   ],
   "source": [
    "y_test.shape"
   ]
  },
  {
   "cell_type": "code",
   "execution_count": 23,
   "metadata": {},
   "outputs": [
    {
     "name": "stdout",
     "output_type": "stream",
     "text": [
      "(23, 1, 1)\n",
      "(9, 1, 1)\n"
     ]
    }
   ],
   "source": [
    "X_train = np.reshape(X_train, (X_train.shape[0], X_train.shape[1], 1))\n",
    "X_test = np.reshape(X_test, (X_test.shape[0], X_test.shape[1], 1))\n",
    "print(X_train.shape)\n",
    "print(X_test.shape)"
   ]
  },
  {
   "cell_type": "code",
   "execution_count": 24,
   "metadata": {},
   "outputs": [],
   "source": [
    "np.random.seed(9)"
   ]
  },
  {
   "cell_type": "code",
   "execution_count": 25,
   "metadata": {},
   "outputs": [
    {
     "name": "stdout",
     "output_type": "stream",
     "text": [
      "Epoch 1/22\n",
      " - 3s - loss: 1.6104e-06 - mean_squared_error: 1.6104e-06\n",
      "Epoch 2/22\n",
      " - 0s - loss: 5.1534e-06 - mean_squared_error: 5.1534e-06\n",
      "Epoch 3/22\n",
      " - 0s - loss: 7.6024e-06 - mean_squared_error: 7.6024e-06\n",
      "Epoch 4/22\n",
      " - 0s - loss: 6.3512e-06 - mean_squared_error: 6.3512e-06\n",
      "Epoch 5/22\n",
      " - 0s - loss: 3.5719e-06 - mean_squared_error: 3.5719e-06\n",
      "Epoch 6/22\n",
      " - 0s - loss: 2.1308e-06 - mean_squared_error: 2.1308e-06\n",
      "Epoch 7/22\n",
      " - 0s - loss: 1.3329e-06 - mean_squared_error: 1.3329e-06\n",
      "Epoch 8/22\n",
      " - 0s - loss: 6.5961e-07 - mean_squared_error: 6.5961e-07\n",
      "Epoch 9/22\n",
      " - 0s - loss: 3.2362e-07 - mean_squared_error: 3.2362e-07\n",
      "Epoch 10/22\n",
      " - 0s - loss: 2.4088e-07 - mean_squared_error: 2.4088e-07\n",
      "Epoch 11/22\n",
      " - 0s - loss: 1.1260e-07 - mean_squared_error: 1.1260e-07\n",
      "Epoch 12/22\n",
      " - 0s - loss: 9.3687e-08 - mean_squared_error: 9.3687e-08\n",
      "Epoch 13/22\n",
      " - 0s - loss: 5.1319e-08 - mean_squared_error: 5.1319e-08\n",
      "Epoch 14/22\n",
      " - 0s - loss: 3.9498e-08 - mean_squared_error: 3.9498e-08\n",
      "Epoch 15/22\n",
      " - 0s - loss: 3.2246e-08 - mean_squared_error: 3.2246e-08\n",
      "Epoch 16/22\n",
      " - 0s - loss: 2.2712e-08 - mean_squared_error: 2.2712e-08\n",
      "Epoch 17/22\n",
      " - 0s - loss: 1.7602e-08 - mean_squared_error: 1.7602e-08\n",
      "Epoch 18/22\n",
      " - 0s - loss: 1.5412e-08 - mean_squared_error: 1.5412e-08\n",
      "Epoch 19/22\n",
      " - 0s - loss: 1.3957e-08 - mean_squared_error: 1.3957e-08\n",
      "Epoch 20/22\n",
      " - 0s - loss: 1.2743e-08 - mean_squared_error: 1.2743e-08\n",
      "Epoch 21/22\n",
      " - 0s - loss: 1.1950e-08 - mean_squared_error: 1.1950e-08\n",
      "Epoch 22/22\n",
      " - 0s - loss: 1.1748e-08 - mean_squared_error: 1.1748e-08\n"
     ]
    }
   ],
   "source": [
    "batch_size = 1\n",
    "model = Sequential()\n",
    "model.add(LSTM(4, batch_input_shape=(batch_size, look_back, 1), stateful=True))\n",
    "model.add(Dense(1))\n",
    "model.compile(loss='mean_squared_error', optimizer='adam', metrics=['mse'])\n",
    "history = model.fit(X_train, y_train, epochs=22, batch_size=batch_size, verbose=2, shuffle=True)"
   ]
  },
  {
   "cell_type": "code",
   "execution_count": 26,
   "metadata": {},
   "outputs": [
    {
     "name": "stdout",
     "output_type": "stream",
     "text": [
      "Train Score: 37473.16 RMSE\n",
      "Test Score: 77619804.11 RMSE\n"
     ]
    }
   ],
   "source": [
    "import math\n",
    "from sklearn.metrics import mean_squared_error\n",
    "\n",
    "trainPredict = model.predict(X_train, batch_size=batch_size)\n",
    "model.reset_states()\n",
    "\n",
    "testPredict = model.predict(X_test, batch_size=batch_size)\n",
    "# invert predictions\n",
    "trainPredict = scaler.inverse_transform(trainPredict)\n",
    "y_train = scaler.inverse_transform([y_train])\n",
    "testPredict = scaler.inverse_transform(testPredict)\n",
    "y_test = scaler.inverse_transform([y_test])\n",
    "# calculate root mean squared error\n",
    "trainScore = math.sqrt(mean_squared_error(y_train[0], trainPredict[:,0]))\n",
    "print('Train Score: %.2f RMSE' % (trainScore))\n",
    "testScore = math.sqrt(mean_squared_error(y_test[0], testPredict[:,0]))\n",
    "print('Test Score: %.2f RMSE' % (testScore))"
   ]
  },
  {
   "cell_type": "code",
   "execution_count": 27,
   "metadata": {},
   "outputs": [
    {
     "data": {
      "image/png": "[encoded data removed]",
      "text/plain": [
       "<Figure size 1440x720 with 1 Axes>"
      ]
     },
     "metadata": {},
     "output_type": "display_data"
    }
   ],
   "source": [
    "trainPredictPlot = np.empty_like(scaled)\n",
    "trainPredictPlot[:, :] = np.nan\n",
    "trainPredictPlot[look_back:len(trainPredict)+look_back, :] = trainPredict\n",
    "# shift test predictions for plotting\n",
    "testPredictPlot = np.empty_like(scaled)\n",
    "testPredictPlot[:, :] = np.nan\n",
    "testPredictPlot[len(trainPredict)+(look_back*2)+1:len(scaled)-1, :] = testPredict\n",
    "# plot baseline and predictions\n",
    "plt.figure(figsize=(20,10))\n",
    "plt.plot(scaler.inverse_transform(scaled))\n",
    "plt.plot(trainPredictPlot)\n",
    "plt.plot(testPredictPlot)\n",
    "plt.show()"
   ]
  },
  {
   "cell_type": "code",
   "execution_count": 28,
   "metadata": {},
   "outputs": [
    {
     "data": {
      "text/plain": [
       "array([3])"
      ]
     },
     "execution_count": 28,
     "metadata": {},
     "output_type": "execute_result"
    }
   ],
   "source": [
    "v = [3]\n",
    "x = np.asarray(v)\n",
    "x"
   ]
  },
  {
   "cell_type": "code",
   "execution_count": 31,
   "metadata": {},
   "outputs": [
    {
     "data": {
      "image/png": "[encoded data removed]",
      "text/plain": [
       "<Figure size 720x360 with 1 Axes>"
      ]
     },
     "metadata": {},
     "output_type": "display_data"
    }
   ],
   "source": [
    "plt.figure(figsize=(10,5))\n",
    "plt.plot(history.history['loss'])\n",
    "\n",
    "plt.title('model loss')\n",
    "plt.ylabel('loss')\n",
    "plt.xlabel('epoch')\n",
    "plt.legend(['train'], loc='upper right')\n",
    "plt.show()"
   ]
  },
  {
   "cell_type": "code",
   "execution_count": 29,
   "metadata": {},
   "outputs": [],
   "source": [
    "x = np.reshape(x,(-1,1))"
   ]
  },
  {
   "cell_type": "code",
   "execution_count": 40,
   "metadata": {},
   "outputs": [
    {
     "name": "stderr",
     "output_type": "stream",
     "text": [
      "C:\\Users\\Admin\\Anaconda3\\lib\\site-packages\\sklearn\\utils\\validation.py:475: DataConversionWarning: Data with input dtype int32 was converted to float64 by MinMaxScaler.\n",
      "  warnings.warn(msg, DataConversionWarning)\n"
     ]
    }
   ],
   "source": [
    "inp = scaler.fit_transform(x)"
   ]
  },
  {
   "cell_type": "code",
   "execution_count": 41,
   "metadata": {},
   "outputs": [],
   "source": [
    "inp = np.reshape(inp, (inp.shape[0], inp.shape[1], 1))"
   ]
  },
  {
   "cell_type": "code",
   "execution_count": 42,
   "metadata": {},
   "outputs": [
    {
     "data": {
      "text/plain": [
       "(1, 1, 1)"
      ]
     },
     "execution_count": 42,
     "metadata": {},
     "output_type": "execute_result"
    }
   ],
   "source": [
    "inp.shape"
   ]
  },
  {
   "cell_type": "code",
   "execution_count": 43,
   "metadata": {},
   "outputs": [],
   "source": [
    "pred = model.predict(inp)"
   ]
  },
  {
   "cell_type": "code",
   "execution_count": 44,
   "metadata": {},
   "outputs": [
    {
     "data": {
      "text/plain": [
       "array([[-0.00083412]], dtype=float32)"
      ]
     },
     "execution_count": 44,
     "metadata": {},
     "output_type": "execute_result"
    }
   ],
   "source": [
    "pred"
   ]
  },
  {
   "cell_type": "code",
   "execution_count": 45,
   "metadata": {},
   "outputs": [],
   "source": [
    "pred = scaler.inverse_transform(pred)"
   ]
  },
  {
   "cell_type": "code",
   "execution_count": 46,
   "metadata": {},
   "outputs": [
    {
     "data": {
      "text/plain": [
       "array([[2.9991658]], dtype=float32)"
      ]
     },
     "execution_count": 46,
     "metadata": {},
     "output_type": "execute_result"
    }
   ],
   "source": [
    "pred"
   ]
  },
  {
   "cell_type": "code",
   "execution_count": 37,
   "metadata": {},
   "outputs": [
    {
     "data": {
      "text/plain": [
       "['inflation_model.pkl']"
      ]
     },
     "execution_count": 37,
     "metadata": {},
     "output_type": "execute_result"
    }
   ],
   "source": [
    "joblib.dump(model, 'inflation_model.pkl')"
   ]
  }
 ],
 "metadata": {
  "kernelspec": {
   "display_name": "Python 3",
   "language": "python",
   "name": "python3"
  },
  "language_info": {
   "codemirror_mode": {
    "name": "ipython",
    "version": 3
   },
   "file_extension": ".py",
   "mimetype": "text/x-python",
   "name": "python",
   "nbconvert_exporter": "python",
   "pygments_lexer": "ipython3",
   "version": "3.6.5"
  }
 },
 "nbformat": 4,
 "nbformat_minor": 2
}
